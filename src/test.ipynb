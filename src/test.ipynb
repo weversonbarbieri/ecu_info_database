{
 "cells": [
  {
   "cell_type": "code",
   "execution_count": 73,
   "metadata": {},
   "outputs": [],
   "source": [
    "import streamlit as st\n",
    "import firebase_admin\n",
    "from firebase_admin import credentials, firestore\n",
    "from firebase_admin import db\n",
    "import datetime\n",
    "import collections"
   ]
  },
  {
   "cell_type": "code",
   "execution_count": 74,
   "metadata": {},
   "outputs": [],
   "source": [
    "if not firebase_admin._apps: \n",
    "    # Create a credential object using the secret key\n",
    "    cred = credentials.Certificate(r\"C:\\Language_Projects\\Language_Projects\\Python\\ecu_info\\src\\ecu-info-firebase-adminsdk-fbsvc-e31bcad2a8.json\")\n",
    "    # Initialize the Firebase app with the credential\n",
    "    firebase_admin.initialize_app(cred)\n"
   ]
  },
  {
   "cell_type": "code",
   "execution_count": 75,
   "metadata": {},
   "outputs": [],
   "source": [
    "# Initialize Firestore\n",
    "db = firestore.client()"
   ]
  },
  {
   "cell_type": "code",
   "execution_count": 76,
   "metadata": {},
   "outputs": [],
   "source": [
    "make = \"Ford\""
   ]
  },
  {
   "cell_type": "code",
   "execution_count": 77,
   "metadata": {},
   "outputs": [],
   "source": [
    "subject = \"Simulator Testing Capable Unit\""
   ]
  },
  {
   "cell_type": "code",
   "execution_count": 78,
   "metadata": {},
   "outputs": [],
   "source": [
    "issue = \"FD-F30A\""
   ]
  },
  {
   "cell_type": "code",
   "execution_count": 84,
   "metadata": {},
   "outputs": [],
   "source": [
    "def sanitize_fields(field):\n",
    "  return ''.join(e if e.isalnum() else '-' for e in field)"
   ]
  },
  {
   "cell_type": "code",
   "execution_count": 85,
   "metadata": {},
   "outputs": [],
   "source": [
    "data = {issue: {\"Information\": \"only\", \"Technician\": \"Weverson\"}}"
   ]
  },
  {
   "cell_type": "code",
   "execution_count": 86,
   "metadata": {},
   "outputs": [],
   "source": [
    "sanitized_data = {sanitize_fields(k): v for k, v in data.items()}"
   ]
  },
  {
   "cell_type": "code",
   "execution_count": 87,
   "metadata": {},
   "outputs": [],
   "source": [
    "doc_ref = db.collection(make).document(subject)"
   ]
  },
  {
   "cell_type": "code",
   "execution_count": 88,
   "metadata": {},
   "outputs": [
    {
     "ename": "ValueError",
     "evalue": "Non-alphanum char in element with leading alpha: FD-F30A",
     "output_type": "error",
     "traceback": [
      "\u001b[1;31m---------------------------------------------------------------------------\u001b[0m",
      "\u001b[1;31mValueError\u001b[0m                                Traceback (most recent call last)",
      "File \u001b[1;32mc:\\Users\\Weverson Barbieri\\AppData\\Local\\Programs\\Python\\Python312\\Lib\\site-packages\\google\\cloud\\firestore_v1\\field_path.py:306\u001b[0m, in \u001b[0;36mFieldPath.from_string\u001b[1;34m(cls, path_string)\u001b[0m\n\u001b[0;32m    305\u001b[0m \u001b[38;5;28;01mtry\u001b[39;00m:\n\u001b[1;32m--> 306\u001b[0m     \u001b[38;5;28;01mreturn\u001b[39;00m \u001b[38;5;28;43mcls\u001b[39;49m\u001b[38;5;241;43m.\u001b[39;49m\u001b[43mfrom_api_repr\u001b[49m\u001b[43m(\u001b[49m\u001b[43mpath_string\u001b[49m\u001b[43m)\u001b[49m\n\u001b[0;32m    307\u001b[0m \u001b[38;5;28;01mexcept\u001b[39;00m \u001b[38;5;167;01mValueError\u001b[39;00m:\n",
      "File \u001b[1;32mc:\\Users\\Weverson Barbieri\\AppData\\Local\\Programs\\Python\\Python312\\Lib\\site-packages\\google\\cloud\\firestore_v1\\field_path.py:288\u001b[0m, in \u001b[0;36mFieldPath.from_api_repr\u001b[1;34m(cls, api_repr)\u001b[0m\n\u001b[0;32m    287\u001b[0m     \u001b[38;5;28;01mraise\u001b[39;00m \u001b[38;5;167;01mValueError\u001b[39;00m(\u001b[38;5;124m\"\u001b[39m\u001b[38;5;124mField path API representation cannot be empty.\u001b[39m\u001b[38;5;124m\"\u001b[39m)\n\u001b[1;32m--> 288\u001b[0m \u001b[38;5;28;01mreturn\u001b[39;00m \u001b[38;5;28mcls\u001b[39m(\u001b[38;5;241m*\u001b[39m\u001b[43mparse_field_path\u001b[49m\u001b[43m(\u001b[49m\u001b[43mapi_repr\u001b[49m\u001b[43m)\u001b[49m)\n",
      "File \u001b[1;32mc:\\Users\\Weverson Barbieri\\AppData\\Local\\Programs\\Python\\Python312\\Lib\\site-packages\\google\\cloud\\firestore_v1\\field_path.py:119\u001b[0m, in \u001b[0;36mparse_field_path\u001b[1;34m(api_repr)\u001b[0m\n\u001b[0;32m    118\u001b[0m field_names \u001b[38;5;241m=\u001b[39m []\n\u001b[1;32m--> 119\u001b[0m \u001b[38;5;28;01mfor\u001b[39;00m field_name \u001b[38;5;129;01min\u001b[39;00m \u001b[43msplit_field_path\u001b[49m\u001b[43m(\u001b[49m\u001b[43mapi_repr\u001b[49m\u001b[43m)\u001b[49m:\n\u001b[0;32m    120\u001b[0m     \u001b[38;5;66;03m# non-simple field name\u001b[39;00m\n\u001b[0;32m    121\u001b[0m     \u001b[38;5;28;01mif\u001b[39;00m field_name[\u001b[38;5;241m0\u001b[39m] \u001b[38;5;241m==\u001b[39m \u001b[38;5;124m\"\u001b[39m\u001b[38;5;124m`\u001b[39m\u001b[38;5;124m\"\u001b[39m \u001b[38;5;129;01mand\u001b[39;00m field_name[\u001b[38;5;241m-\u001b[39m\u001b[38;5;241m1\u001b[39m] \u001b[38;5;241m==\u001b[39m \u001b[38;5;124m\"\u001b[39m\u001b[38;5;124m`\u001b[39m\u001b[38;5;124m\"\u001b[39m:\n",
      "File \u001b[1;32mc:\\Users\\Weverson Barbieri\\AppData\\Local\\Programs\\Python\\Python312\\Lib\\site-packages\\google\\cloud\\firestore_v1\\field_path.py:82\u001b[0m, in \u001b[0;36msplit_field_path\u001b[1;34m(path)\u001b[0m\n\u001b[0;32m     80\u001b[0m want_dot \u001b[38;5;241m=\u001b[39m \u001b[38;5;28;01mFalse\u001b[39;00m\n\u001b[1;32m---> 82\u001b[0m \u001b[43m\u001b[49m\u001b[38;5;28;43;01mfor\u001b[39;49;00m\u001b[43m \u001b[49m\u001b[43melement\u001b[49m\u001b[43m \u001b[49m\u001b[38;5;129;43;01min\u001b[39;49;00m\u001b[43m \u001b[49m\u001b[43m_tokenize_field_path\u001b[49m\u001b[43m(\u001b[49m\u001b[43mpath\u001b[49m\u001b[43m)\u001b[49m\u001b[43m:\u001b[49m\n\u001b[0;32m     83\u001b[0m \u001b[43m    \u001b[49m\u001b[38;5;28;43;01mif\u001b[39;49;00m\u001b[43m \u001b[49m\u001b[43mwant_dot\u001b[49m\u001b[43m:\u001b[49m\n",
      "File \u001b[1;32mc:\\Users\\Weverson Barbieri\\AppData\\Local\\Programs\\Python\\Python312\\Lib\\site-packages\\google\\cloud\\firestore_v1\\field_path.py:62\u001b[0m, in \u001b[0;36m_tokenize_field_path\u001b[1;34m(path)\u001b[0m\n\u001b[0;32m     61\u001b[0m \u001b[38;5;28;01mif\u001b[39;00m pos \u001b[38;5;241m!=\u001b[39m \u001b[38;5;28mlen\u001b[39m(path):\n\u001b[1;32m---> 62\u001b[0m     \u001b[38;5;28;01mraise\u001b[39;00m \u001b[38;5;167;01mValueError\u001b[39;00m(\u001b[38;5;124m\"\u001b[39m\u001b[38;5;124mPath \u001b[39m\u001b[38;5;132;01m{}\u001b[39;00m\u001b[38;5;124m not consumed, residue: \u001b[39m\u001b[38;5;132;01m{}\u001b[39;00m\u001b[38;5;124m\"\u001b[39m\u001b[38;5;241m.\u001b[39mformat(path, path[pos:]))\n",
      "\u001b[1;31mValueError\u001b[0m: Path FD-F30A not consumed, residue: -F30A",
      "\nDuring handling of the above exception, another exception occurred:\n",
      "\u001b[1;31mValueError\u001b[0m                                Traceback (most recent call last)",
      "Cell \u001b[1;32mIn[88], line 1\u001b[0m\n\u001b[1;32m----> 1\u001b[0m \u001b[43mdoc_ref\u001b[49m\u001b[38;5;241;43m.\u001b[39;49m\u001b[43mupdate\u001b[49m\u001b[43m(\u001b[49m\u001b[43msanitized_data\u001b[49m\u001b[43m)\u001b[49m\n",
      "File \u001b[1;32mc:\\Users\\Weverson Barbieri\\AppData\\Local\\Programs\\Python\\Python312\\Lib\\site-packages\\google\\cloud\\firestore_v1\\document.py:323\u001b[0m, in \u001b[0;36mDocumentReference.update\u001b[1;34m(self, field_updates, option, retry, timeout)\u001b[0m\n\u001b[0;32m    169\u001b[0m \u001b[38;5;28;01mdef\u001b[39;00m \u001b[38;5;21mupdate\u001b[39m(\n\u001b[0;32m    170\u001b[0m     \u001b[38;5;28mself\u001b[39m,\n\u001b[0;32m    171\u001b[0m     field_updates: \u001b[38;5;28mdict\u001b[39m,\n\u001b[1;32m   (...)\u001b[0m\n\u001b[0;32m    174\u001b[0m     timeout: \u001b[38;5;28mfloat\u001b[39m \u001b[38;5;241m=\u001b[39m \u001b[38;5;28;01mNone\u001b[39;00m,\n\u001b[0;32m    175\u001b[0m ) \u001b[38;5;241m-\u001b[39m\u001b[38;5;241m>\u001b[39m write\u001b[38;5;241m.\u001b[39mWriteResult:\n\u001b[0;32m    176\u001b[0m \u001b[38;5;250m    \u001b[39m\u001b[38;5;124;03m\"\"\"Update an existing document in the Firestore database.\u001b[39;00m\n\u001b[0;32m    177\u001b[0m \n\u001b[0;32m    178\u001b[0m \u001b[38;5;124;03m    By default, this method verifies that the document exists on the\u001b[39;00m\n\u001b[1;32m   (...)\u001b[0m\n\u001b[0;32m    321\u001b[0m \u001b[38;5;124;03m            If the document does not exist.\u001b[39;00m\n\u001b[0;32m    322\u001b[0m \u001b[38;5;124;03m    \"\"\"\u001b[39;00m\n\u001b[1;32m--> 323\u001b[0m     batch, kwargs \u001b[38;5;241m=\u001b[39m \u001b[38;5;28;43mself\u001b[39;49m\u001b[38;5;241;43m.\u001b[39;49m\u001b[43m_prep_update\u001b[49m\u001b[43m(\u001b[49m\u001b[43mfield_updates\u001b[49m\u001b[43m,\u001b[49m\u001b[43m \u001b[49m\u001b[43moption\u001b[49m\u001b[43m,\u001b[49m\u001b[43m \u001b[49m\u001b[43mretry\u001b[49m\u001b[43m,\u001b[49m\u001b[43m \u001b[49m\u001b[43mtimeout\u001b[49m\u001b[43m)\u001b[49m\n\u001b[0;32m    324\u001b[0m     write_results \u001b[38;5;241m=\u001b[39m batch\u001b[38;5;241m.\u001b[39mcommit(\u001b[38;5;241m*\u001b[39m\u001b[38;5;241m*\u001b[39mkwargs)\n\u001b[0;32m    325\u001b[0m     \u001b[38;5;28;01mreturn\u001b[39;00m _first_write_result(write_results)\n",
      "File \u001b[1;32mc:\\Users\\Weverson Barbieri\\AppData\\Local\\Programs\\Python\\Python312\\Lib\\site-packages\\google\\cloud\\firestore_v1\\base_document.py:248\u001b[0m, in \u001b[0;36mBaseDocumentReference._prep_update\u001b[1;34m(self, field_updates, option, retry, timeout)\u001b[0m\n\u001b[0;32m    240\u001b[0m \u001b[38;5;28;01mdef\u001b[39;00m \u001b[38;5;21m_prep_update\u001b[39m(\n\u001b[0;32m    241\u001b[0m     \u001b[38;5;28mself\u001b[39m,\n\u001b[0;32m    242\u001b[0m     field_updates: \u001b[38;5;28mdict\u001b[39m,\n\u001b[1;32m   (...)\u001b[0m\n\u001b[0;32m    245\u001b[0m     timeout: \u001b[38;5;28mfloat\u001b[39m \u001b[38;5;241m=\u001b[39m \u001b[38;5;28;01mNone\u001b[39;00m,\n\u001b[0;32m    246\u001b[0m ) \u001b[38;5;241m-\u001b[39m\u001b[38;5;241m>\u001b[39m Tuple[Any, \u001b[38;5;28mdict\u001b[39m]:\n\u001b[0;32m    247\u001b[0m     batch \u001b[38;5;241m=\u001b[39m \u001b[38;5;28mself\u001b[39m\u001b[38;5;241m.\u001b[39m_client\u001b[38;5;241m.\u001b[39mbatch()\n\u001b[1;32m--> 248\u001b[0m     \u001b[43mbatch\u001b[49m\u001b[38;5;241;43m.\u001b[39;49m\u001b[43mupdate\u001b[49m\u001b[43m(\u001b[49m\u001b[38;5;28;43mself\u001b[39;49m\u001b[43m,\u001b[49m\u001b[43m \u001b[49m\u001b[43mfield_updates\u001b[49m\u001b[43m,\u001b[49m\u001b[43m \u001b[49m\u001b[43moption\u001b[49m\u001b[38;5;241;43m=\u001b[39;49m\u001b[43moption\u001b[49m\u001b[43m)\u001b[49m\n\u001b[0;32m    249\u001b[0m     kwargs \u001b[38;5;241m=\u001b[39m _helpers\u001b[38;5;241m.\u001b[39mmake_retry_timeout_kwargs(retry, timeout)\n\u001b[0;32m    251\u001b[0m     \u001b[38;5;28;01mreturn\u001b[39;00m batch, kwargs\n",
      "File \u001b[1;32mc:\\Users\\Weverson Barbieri\\AppData\\Local\\Programs\\Python\\Python312\\Lib\\site-packages\\google\\cloud\\firestore_v1\\base_batch.py:142\u001b[0m, in \u001b[0;36mBaseBatch.update\u001b[1;34m(self, reference, field_updates, option)\u001b[0m\n\u001b[0;32m    140\u001b[0m \u001b[38;5;28;01mif\u001b[39;00m option\u001b[38;5;241m.\u001b[39m\u001b[38;5;18m__class__\u001b[39m\u001b[38;5;241m.\u001b[39m\u001b[38;5;18m__name__\u001b[39m \u001b[38;5;241m==\u001b[39m \u001b[38;5;124m\"\u001b[39m\u001b[38;5;124mExistsOption\u001b[39m\u001b[38;5;124m\"\u001b[39m:\n\u001b[0;32m    141\u001b[0m     \u001b[38;5;28;01mraise\u001b[39;00m \u001b[38;5;167;01mValueError\u001b[39;00m(\u001b[38;5;124m\"\u001b[39m\u001b[38;5;124myou must not pass an explicit write option to \u001b[39m\u001b[38;5;124m\"\u001b[39m \u001b[38;5;124m\"\u001b[39m\u001b[38;5;124mupdate.\u001b[39m\u001b[38;5;124m\"\u001b[39m)\n\u001b[1;32m--> 142\u001b[0m write_pbs \u001b[38;5;241m=\u001b[39m \u001b[43m_helpers\u001b[49m\u001b[38;5;241;43m.\u001b[39;49m\u001b[43mpbs_for_update\u001b[49m\u001b[43m(\u001b[49m\n\u001b[0;32m    143\u001b[0m \u001b[43m    \u001b[49m\u001b[43mreference\u001b[49m\u001b[38;5;241;43m.\u001b[39;49m\u001b[43m_document_path\u001b[49m\u001b[43m,\u001b[49m\u001b[43m \u001b[49m\u001b[43mfield_updates\u001b[49m\u001b[43m,\u001b[49m\u001b[43m \u001b[49m\u001b[43moption\u001b[49m\n\u001b[0;32m    144\u001b[0m \u001b[43m\u001b[49m\u001b[43m)\u001b[49m\n\u001b[0;32m    145\u001b[0m \u001b[38;5;28mself\u001b[39m\u001b[38;5;241m.\u001b[39m_document_references[reference\u001b[38;5;241m.\u001b[39m_document_path] \u001b[38;5;241m=\u001b[39m reference\n\u001b[0;32m    146\u001b[0m \u001b[38;5;28mself\u001b[39m\u001b[38;5;241m.\u001b[39m_add_write_pbs(write_pbs)\n",
      "File \u001b[1;32mc:\\Users\\Weverson Barbieri\\AppData\\Local\\Programs\\Python\\Python312\\Lib\\site-packages\\google\\cloud\\firestore_v1\\_helpers.py:932\u001b[0m, in \u001b[0;36mpbs_for_update\u001b[1;34m(document_path, field_updates, option)\u001b[0m\n\u001b[0;32m    917\u001b[0m \u001b[38;5;28;01mdef\u001b[39;00m \u001b[38;5;21mpbs_for_update\u001b[39m(document_path, field_updates, option) \u001b[38;5;241m-\u001b[39m\u001b[38;5;241m>\u001b[39m List[types\u001b[38;5;241m.\u001b[39mwrite\u001b[38;5;241m.\u001b[39mWrite]:\n\u001b[0;32m    918\u001b[0m \u001b[38;5;250m    \u001b[39m\u001b[38;5;124;03m\"\"\"Make ``Write`` protobufs for ``update()`` methods.\u001b[39;00m\n\u001b[0;32m    919\u001b[0m \n\u001b[0;32m    920\u001b[0m \u001b[38;5;124;03m    Args:\u001b[39;00m\n\u001b[1;32m   (...)\u001b[0m\n\u001b[0;32m    930\u001b[0m \u001b[38;5;124;03m        or two ``Write`` protobuf instances for ``update()``.\u001b[39;00m\n\u001b[0;32m    931\u001b[0m \u001b[38;5;124;03m    \"\"\"\u001b[39;00m\n\u001b[1;32m--> 932\u001b[0m     extractor \u001b[38;5;241m=\u001b[39m \u001b[43mDocumentExtractorForUpdate\u001b[49m\u001b[43m(\u001b[49m\u001b[43mfield_updates\u001b[49m\u001b[43m)\u001b[49m\n\u001b[0;32m    934\u001b[0m     \u001b[38;5;28;01mif\u001b[39;00m extractor\u001b[38;5;241m.\u001b[39mempty_document:\n\u001b[0;32m    935\u001b[0m         \u001b[38;5;28;01mraise\u001b[39;00m \u001b[38;5;167;01mValueError\u001b[39;00m(\u001b[38;5;124m\"\u001b[39m\u001b[38;5;124mCannot update with an empty document.\u001b[39m\u001b[38;5;124m\"\u001b[39m)\n",
      "File \u001b[1;32mc:\\Users\\Weverson Barbieri\\AppData\\Local\\Programs\\Python\\Python312\\Lib\\site-packages\\google\\cloud\\firestore_v1\\_helpers.py:883\u001b[0m, in \u001b[0;36mDocumentExtractorForUpdate.__init__\u001b[1;34m(self, document_data)\u001b[0m\n\u001b[0;32m    882\u001b[0m \u001b[38;5;28;01mdef\u001b[39;00m \u001b[38;5;21m__init__\u001b[39m(\u001b[38;5;28mself\u001b[39m, document_data) \u001b[38;5;241m-\u001b[39m\u001b[38;5;241m>\u001b[39m \u001b[38;5;28;01mNone\u001b[39;00m:\n\u001b[1;32m--> 883\u001b[0m     \u001b[38;5;28;43msuper\u001b[39;49m\u001b[43m(\u001b[49m\u001b[43mDocumentExtractorForUpdate\u001b[49m\u001b[43m,\u001b[49m\u001b[43m \u001b[49m\u001b[38;5;28;43mself\u001b[39;49m\u001b[43m)\u001b[49m\u001b[38;5;241;43m.\u001b[39;49m\u001b[38;5;21;43m__init__\u001b[39;49m\u001b[43m(\u001b[49m\u001b[43mdocument_data\u001b[49m\u001b[43m)\u001b[49m\n\u001b[0;32m    884\u001b[0m     \u001b[38;5;28mself\u001b[39m\u001b[38;5;241m.\u001b[39mtop_level_paths \u001b[38;5;241m=\u001b[39m \u001b[38;5;28msorted\u001b[39m(\n\u001b[0;32m    885\u001b[0m         [FieldPath\u001b[38;5;241m.\u001b[39mfrom_string(key) \u001b[38;5;28;01mfor\u001b[39;00m key \u001b[38;5;129;01min\u001b[39;00m document_data]\n\u001b[0;32m    886\u001b[0m     )\n\u001b[0;32m    887\u001b[0m     tops \u001b[38;5;241m=\u001b[39m \u001b[38;5;28mset\u001b[39m(\u001b[38;5;28mself\u001b[39m\u001b[38;5;241m.\u001b[39mtop_level_paths)\n",
      "File \u001b[1;32mc:\\Users\\Weverson Barbieri\\AppData\\Local\\Programs\\Python\\Python312\\Lib\\site-packages\\google\\cloud\\firestore_v1\\_helpers.py:513\u001b[0m, in \u001b[0;36mDocumentExtractor.__init__\u001b[1;34m(self, document_data)\u001b[0m\n\u001b[0;32m    510\u001b[0m prefix_path \u001b[38;5;241m=\u001b[39m FieldPath()\n\u001b[0;32m    511\u001b[0m iterator \u001b[38;5;241m=\u001b[39m \u001b[38;5;28mself\u001b[39m\u001b[38;5;241m.\u001b[39m_get_document_iterator(prefix_path)\n\u001b[1;32m--> 513\u001b[0m \u001b[43m\u001b[49m\u001b[38;5;28;43;01mfor\u001b[39;49;00m\u001b[43m \u001b[49m\u001b[43mfield_path\u001b[49m\u001b[43m,\u001b[49m\u001b[43m \u001b[49m\u001b[43mvalue\u001b[49m\u001b[43m \u001b[49m\u001b[38;5;129;43;01min\u001b[39;49;00m\u001b[43m \u001b[49m\u001b[43miterator\u001b[49m\u001b[43m:\u001b[49m\n\u001b[0;32m    514\u001b[0m \u001b[43m    \u001b[49m\u001b[38;5;28;43;01mif\u001b[39;49;00m\u001b[43m \u001b[49m\u001b[43mfield_path\u001b[49m\u001b[43m \u001b[49m\u001b[38;5;241;43m==\u001b[39;49m\u001b[43m \u001b[49m\u001b[43mprefix_path\u001b[49m\u001b[43m \u001b[49m\u001b[38;5;129;43;01mand\u001b[39;49;00m\u001b[43m \u001b[49m\u001b[43mvalue\u001b[49m\u001b[43m \u001b[49m\u001b[38;5;129;43;01mis\u001b[39;49;00m\u001b[43m \u001b[49m\u001b[43m_EmptyDict\u001b[49m\u001b[43m:\u001b[49m\n\u001b[0;32m    515\u001b[0m \u001b[43m        \u001b[49m\u001b[38;5;28;43mself\u001b[39;49m\u001b[38;5;241;43m.\u001b[39;49m\u001b[43mempty_document\u001b[49m\u001b[43m \u001b[49m\u001b[38;5;241;43m=\u001b[39;49m\u001b[43m \u001b[49m\u001b[38;5;28;43;01mTrue\u001b[39;49;00m\n",
      "File \u001b[1;32mc:\\Users\\Weverson Barbieri\\AppData\\Local\\Programs\\Python\\Python312\\Lib\\site-packages\\google\\cloud\\firestore_v1\\_helpers.py:453\u001b[0m, in \u001b[0;36mextract_fields\u001b[1;34m(document_data, prefix_path, expand_dots)\u001b[0m\n\u001b[0;32m    451\u001b[0m \u001b[38;5;28;01mfor\u001b[39;00m key, value \u001b[38;5;129;01min\u001b[39;00m \u001b[38;5;28msorted\u001b[39m(document_data\u001b[38;5;241m.\u001b[39mitems()):\n\u001b[0;32m    452\u001b[0m     \u001b[38;5;28;01mif\u001b[39;00m expand_dots:\n\u001b[1;32m--> 453\u001b[0m         sub_key \u001b[38;5;241m=\u001b[39m \u001b[43mFieldPath\u001b[49m\u001b[38;5;241;43m.\u001b[39;49m\u001b[43mfrom_string\u001b[49m\u001b[43m(\u001b[49m\u001b[43mkey\u001b[49m\u001b[43m)\u001b[49m\n\u001b[0;32m    454\u001b[0m     \u001b[38;5;28;01melse\u001b[39;00m:\n\u001b[0;32m    455\u001b[0m         sub_key \u001b[38;5;241m=\u001b[39m FieldPath(key)\n",
      "File \u001b[1;32mc:\\Users\\Weverson Barbieri\\AppData\\Local\\Programs\\Python\\Python312\\Lib\\site-packages\\google\\cloud\\firestore_v1\\field_path.py:313\u001b[0m, in \u001b[0;36mFieldPath.from_string\u001b[1;34m(cls, path_string)\u001b[0m\n\u001b[0;32m    311\u001b[0m         \u001b[38;5;28;01mraise\u001b[39;00m \u001b[38;5;167;01mValueError\u001b[39;00m(\u001b[38;5;124m\"\u001b[39m\u001b[38;5;124mEmpty element\u001b[39m\u001b[38;5;124m\"\u001b[39m)\n\u001b[0;32m    312\u001b[0m     \u001b[38;5;28;01mif\u001b[39;00m _LEADING_ALPHA_INVALID\u001b[38;5;241m.\u001b[39mmatch(element):\n\u001b[1;32m--> 313\u001b[0m         \u001b[38;5;28;01mraise\u001b[39;00m \u001b[38;5;167;01mValueError\u001b[39;00m(\n\u001b[0;32m    314\u001b[0m             \u001b[38;5;124m\"\u001b[39m\u001b[38;5;124mNon-alphanum char in element with leading alpha: \u001b[39m\u001b[38;5;132;01m{}\u001b[39;00m\u001b[38;5;124m\"\u001b[39m\u001b[38;5;241m.\u001b[39mformat(\n\u001b[0;32m    315\u001b[0m                 element\n\u001b[0;32m    316\u001b[0m             )\n\u001b[0;32m    317\u001b[0m         )\n\u001b[0;32m    318\u001b[0m \u001b[38;5;28;01mreturn\u001b[39;00m FieldPath(\u001b[38;5;241m*\u001b[39melements)\n",
      "\u001b[1;31mValueError\u001b[0m: Non-alphanum char in element with leading alpha: FD-F30A"
     ]
    }
   ],
   "source": [
    "doc_ref.update(sanitized_data)"
   ]
  },
  {
   "cell_type": "code",
   "execution_count": null,
   "metadata": {},
   "outputs": [],
   "source": [
    "for subject in subjects:\n",
    "    subject_id = subject.id\n",
    "    db.collection(make).document(subject_id).delete()"
   ]
  },
  {
   "cell_type": "code",
   "execution_count": null,
   "metadata": {},
   "outputs": [
    {
     "data": {
      "text/plain": [
       "'PROGRAMMING-RELATED CODES'"
      ]
     },
     "execution_count": 25,
     "metadata": {},
     "output_type": "execute_result"
    }
   ],
   "source": [
    "def delete_subjects_from_make(make):\n",
    "  subjects = db.collection(make).get()\n",
    "  for subject in subjects:\n",
    "    subject_id = subject.id\n",
    "    db.collection(make).document(subject_id).delete()\n",
    "  return True"
   ]
  },
  {
   "cell_type": "code",
   "execution_count": null,
   "metadata": {},
   "outputs": [],
   "source": [
    "def show_information(make_given, subject_given, issue):\n",
    "  # Reference to the document in Firestore\n",
    "  doc_ref = db.collection(make_given).document(subject_given)\n",
    "  # Get the information from the document\n",
    "  info_ref = doc_ref.get().to_dict()\n",
    "  issue_selected = \n",
    "  return info_ref"
   ]
  },
  {
   "cell_type": "code",
   "execution_count": 12,
   "metadata": {},
   "outputs": [],
   "source": [
    "dict_list = show_information(make, subject)"
   ]
  },
  {
   "cell_type": "code",
   "execution_count": 13,
   "metadata": {},
   "outputs": [],
   "source": [
    "dict_filtered = dict_list[issue_selected]"
   ]
  },
  {
   "cell_type": "code",
   "execution_count": 14,
   "metadata": {},
   "outputs": [
    {
     "data": {
      "text/plain": [
       "{'Information': 'clone the ID block',\n",
       " 'Date': DatetimeWithNanoseconds(2025, 2, 17, 15, 10, 21, 26956, tzinfo=datetime.timezone.utc),\n",
       " 'Technician': 'Weverson'}"
      ]
     },
     "execution_count": 14,
     "metadata": {},
     "output_type": "execute_result"
    }
   ],
   "source": [
    "dict_filtered"
   ]
  },
  {
   "cell_type": "code",
   "execution_count": 15,
   "metadata": {},
   "outputs": [
    {
     "name": "stdout",
     "output_type": "stream",
     "text": [
      "Information: clone the ID block\n",
      "Date: 2025-02-17 15:10:21.026956+00:00\n",
      "Technician: Weverson\n"
     ]
    }
   ],
   "source": [
    "for topic, values in dict_filtered.items():\n",
    "    print(f\"{topic}: {values}\") "
   ]
  },
  {
   "cell_type": "code",
   "execution_count": 8,
   "metadata": {},
   "outputs": [],
   "source": [
    "technician = \"Weverson\""
   ]
  },
  {
   "cell_type": "code",
   "execution_count": 9,
   "metadata": {},
   "outputs": [],
   "source": [
    "input_text = \"clone the ID block\""
   ]
  },
  {
   "cell_type": "code",
   "execution_count": 22,
   "metadata": {},
   "outputs": [],
   "source": [
    "make_dict = make_ref.get().to_dict()"
   ]
  },
  {
   "cell_type": "code",
   "execution_count": 23,
   "metadata": {},
   "outputs": [],
   "source": [
    "issue_list = []\n",
    "\n",
    "for issue in make_dict:\n",
    "    issue_list.append(issue)"
   ]
  },
  {
   "cell_type": "code",
   "execution_count": null,
   "metadata": {},
   "outputs": [],
   "source": [
    "for topic, value in issue_selected.items():\n",
    "        print(f\"{topic}: {value}\")"
   ]
  },
  {
   "cell_type": "code",
   "execution_count": 116,
   "metadata": {},
   "outputs": [],
   "source": [
    "information_list = []\n",
    "\n",
    "for value in make_dict.values():\n",
    "    if value == subject_id:\n",
    "        information_list.append(value)"
   ]
  },
  {
   "cell_type": "code",
   "execution_count": 117,
   "metadata": {},
   "outputs": [
    {
     "data": {
      "text/plain": [
       "[]"
      ]
     },
     "execution_count": 117,
     "metadata": {},
     "output_type": "execute_result"
    }
   ],
   "source": [
    "information_list"
   ]
  },
  {
   "cell_type": "code",
   "execution_count": 50,
   "metadata": {},
   "outputs": [],
   "source": [
    "get_collection_list = doc_ref.get().to_dict()"
   ]
  },
  {
   "cell_type": "code",
   "execution_count": 27,
   "metadata": {},
   "outputs": [
    {
     "ename": "ValueError",
     "evalue": "One or more components is not a string or is empty.",
     "output_type": "error",
     "traceback": [
      "\u001b[1;31m---------------------------------------------------------------------------\u001b[0m",
      "\u001b[1;31mValueError\u001b[0m                                Traceback (most recent call last)",
      "Cell \u001b[1;32mIn[27], line 1\u001b[0m\n\u001b[1;32m----> 1\u001b[0m \u001b[43mmake_ref\u001b[49m\u001b[38;5;241;43m.\u001b[39;49m\u001b[43mset\u001b[49m\u001b[43m(\u001b[49m\u001b[43mdata\u001b[49m\u001b[43m)\u001b[49m\n",
      "File \u001b[1;32mc:\\Users\\Weverson Barbieri\\AppData\\Local\\Programs\\Python\\Python312\\Lib\\site-packages\\google\\cloud\\firestore_v1\\document.py:165\u001b[0m, in \u001b[0;36mDocumentReference.set\u001b[1;34m(self, document_data, merge, retry, timeout)\u001b[0m\n\u001b[0;32m    101\u001b[0m \u001b[38;5;28;01mdef\u001b[39;00m \u001b[38;5;21mset\u001b[39m(\n\u001b[0;32m    102\u001b[0m     \u001b[38;5;28mself\u001b[39m,\n\u001b[0;32m    103\u001b[0m     document_data: \u001b[38;5;28mdict\u001b[39m,\n\u001b[1;32m   (...)\u001b[0m\n\u001b[0;32m    106\u001b[0m     timeout: \u001b[38;5;28mfloat\u001b[39m \u001b[38;5;241m=\u001b[39m \u001b[38;5;28;01mNone\u001b[39;00m,\n\u001b[0;32m    107\u001b[0m ) \u001b[38;5;241m-\u001b[39m\u001b[38;5;241m>\u001b[39m write\u001b[38;5;241m.\u001b[39mWriteResult:\n\u001b[0;32m    108\u001b[0m \u001b[38;5;250m    \u001b[39m\u001b[38;5;124;03m\"\"\"Create / replace / merge a document in the Firestore database.\u001b[39;00m\n\u001b[0;32m    109\u001b[0m \n\u001b[0;32m    110\u001b[0m \u001b[38;5;124;03m    - To \"upsert\" a document (create if it doesn't exist, replace completely\u001b[39;00m\n\u001b[1;32m   (...)\u001b[0m\n\u001b[0;32m    163\u001b[0m \u001b[38;5;124;03m        result contains an ``update_time`` field.\u001b[39;00m\n\u001b[0;32m    164\u001b[0m \u001b[38;5;124;03m    \"\"\"\u001b[39;00m\n\u001b[1;32m--> 165\u001b[0m     batch, kwargs \u001b[38;5;241m=\u001b[39m \u001b[38;5;28;43mself\u001b[39;49m\u001b[38;5;241;43m.\u001b[39;49m\u001b[43m_prep_set\u001b[49m\u001b[43m(\u001b[49m\u001b[43mdocument_data\u001b[49m\u001b[43m,\u001b[49m\u001b[43m \u001b[49m\u001b[43mmerge\u001b[49m\u001b[43m,\u001b[49m\u001b[43m \u001b[49m\u001b[43mretry\u001b[49m\u001b[43m,\u001b[49m\u001b[43m \u001b[49m\u001b[43mtimeout\u001b[49m\u001b[43m)\u001b[49m\n\u001b[0;32m    166\u001b[0m     write_results \u001b[38;5;241m=\u001b[39m batch\u001b[38;5;241m.\u001b[39mcommit(\u001b[38;5;241m*\u001b[39m\u001b[38;5;241m*\u001b[39mkwargs)\n\u001b[0;32m    167\u001b[0m     \u001b[38;5;28;01mreturn\u001b[39;00m _first_write_result(write_results)\n",
      "File \u001b[1;32mc:\\Users\\Weverson Barbieri\\AppData\\Local\\Programs\\Python\\Python312\\Lib\\site-packages\\google\\cloud\\firestore_v1\\base_document.py:226\u001b[0m, in \u001b[0;36mBaseDocumentReference._prep_set\u001b[1;34m(self, document_data, merge, retry, timeout)\u001b[0m\n\u001b[0;32m    218\u001b[0m \u001b[38;5;28;01mdef\u001b[39;00m \u001b[38;5;21m_prep_set\u001b[39m(\n\u001b[0;32m    219\u001b[0m     \u001b[38;5;28mself\u001b[39m,\n\u001b[0;32m    220\u001b[0m     document_data: \u001b[38;5;28mdict\u001b[39m,\n\u001b[1;32m   (...)\u001b[0m\n\u001b[0;32m    223\u001b[0m     timeout: \u001b[38;5;28mfloat\u001b[39m \u001b[38;5;241m=\u001b[39m \u001b[38;5;28;01mNone\u001b[39;00m,\n\u001b[0;32m    224\u001b[0m ) \u001b[38;5;241m-\u001b[39m\u001b[38;5;241m>\u001b[39m Tuple[Any, \u001b[38;5;28mdict\u001b[39m]:\n\u001b[0;32m    225\u001b[0m     batch \u001b[38;5;241m=\u001b[39m \u001b[38;5;28mself\u001b[39m\u001b[38;5;241m.\u001b[39m_client\u001b[38;5;241m.\u001b[39mbatch()\n\u001b[1;32m--> 226\u001b[0m     \u001b[43mbatch\u001b[49m\u001b[38;5;241;43m.\u001b[39;49m\u001b[43mset\u001b[49m\u001b[43m(\u001b[49m\u001b[38;5;28;43mself\u001b[39;49m\u001b[43m,\u001b[49m\u001b[43m \u001b[49m\u001b[43mdocument_data\u001b[49m\u001b[43m,\u001b[49m\u001b[43m \u001b[49m\u001b[43mmerge\u001b[49m\u001b[38;5;241;43m=\u001b[39;49m\u001b[43mmerge\u001b[49m\u001b[43m)\u001b[49m\n\u001b[0;32m    227\u001b[0m     kwargs \u001b[38;5;241m=\u001b[39m _helpers\u001b[38;5;241m.\u001b[39mmake_retry_timeout_kwargs(retry, timeout)\n\u001b[0;32m    229\u001b[0m     \u001b[38;5;28;01mreturn\u001b[39;00m batch, kwargs\n",
      "File \u001b[1;32mc:\\Users\\Weverson Barbieri\\AppData\\Local\\Programs\\Python\\Python312\\Lib\\site-packages\\google\\cloud\\firestore_v1\\base_batch.py:112\u001b[0m, in \u001b[0;36mBaseBatch.set\u001b[1;34m(self, reference, document_data, merge)\u001b[0m\n\u001b[0;32m    108\u001b[0m     write_pbs \u001b[38;5;241m=\u001b[39m _helpers\u001b[38;5;241m.\u001b[39mpbs_for_set_with_merge(\n\u001b[0;32m    109\u001b[0m         reference\u001b[38;5;241m.\u001b[39m_document_path, document_data, merge\n\u001b[0;32m    110\u001b[0m     )\n\u001b[0;32m    111\u001b[0m \u001b[38;5;28;01melse\u001b[39;00m:\n\u001b[1;32m--> 112\u001b[0m     write_pbs \u001b[38;5;241m=\u001b[39m \u001b[43m_helpers\u001b[49m\u001b[38;5;241;43m.\u001b[39;49m\u001b[43mpbs_for_set_no_merge\u001b[49m\u001b[43m(\u001b[49m\n\u001b[0;32m    113\u001b[0m \u001b[43m        \u001b[49m\u001b[43mreference\u001b[49m\u001b[38;5;241;43m.\u001b[39;49m\u001b[43m_document_path\u001b[49m\u001b[43m,\u001b[49m\u001b[43m \u001b[49m\u001b[43mdocument_data\u001b[49m\n\u001b[0;32m    114\u001b[0m \u001b[43m    \u001b[49m\u001b[43m)\u001b[49m\n\u001b[0;32m    116\u001b[0m \u001b[38;5;28mself\u001b[39m\u001b[38;5;241m.\u001b[39m_document_references[reference\u001b[38;5;241m.\u001b[39m_document_path] \u001b[38;5;241m=\u001b[39m reference\n\u001b[0;32m    117\u001b[0m \u001b[38;5;28mself\u001b[39m\u001b[38;5;241m.\u001b[39m_add_write_pbs(write_pbs)\n",
      "File \u001b[1;32mc:\\Users\\Weverson Barbieri\\AppData\\Local\\Programs\\Python\\Python312\\Lib\\site-packages\\google\\cloud\\firestore_v1\\_helpers.py:711\u001b[0m, in \u001b[0;36mpbs_for_set_no_merge\u001b[1;34m(document_path, document_data)\u001b[0m\n\u001b[0;32m    699\u001b[0m \u001b[38;5;28;01mdef\u001b[39;00m \u001b[38;5;21mpbs_for_set_no_merge\u001b[39m(document_path, document_data) \u001b[38;5;241m-\u001b[39m\u001b[38;5;241m>\u001b[39m List[types\u001b[38;5;241m.\u001b[39mwrite\u001b[38;5;241m.\u001b[39mWrite]:\n\u001b[0;32m    700\u001b[0m \u001b[38;5;250m    \u001b[39m\u001b[38;5;124;03m\"\"\"Make ``Write`` protobufs for ``set()`` methods.\u001b[39;00m\n\u001b[0;32m    701\u001b[0m \n\u001b[0;32m    702\u001b[0m \u001b[38;5;124;03m    Args:\u001b[39;00m\n\u001b[1;32m   (...)\u001b[0m\n\u001b[0;32m    709\u001b[0m \u001b[38;5;124;03m        or two ``Write`` protobuf instances for ``set()``.\u001b[39;00m\n\u001b[0;32m    710\u001b[0m \u001b[38;5;124;03m    \"\"\"\u001b[39;00m\n\u001b[1;32m--> 711\u001b[0m     extractor \u001b[38;5;241m=\u001b[39m \u001b[43mDocumentExtractor\u001b[49m\u001b[43m(\u001b[49m\u001b[43mdocument_data\u001b[49m\u001b[43m)\u001b[49m\n\u001b[0;32m    713\u001b[0m     \u001b[38;5;28;01mif\u001b[39;00m extractor\u001b[38;5;241m.\u001b[39mdeleted_fields:\n\u001b[0;32m    714\u001b[0m         \u001b[38;5;28;01mraise\u001b[39;00m \u001b[38;5;167;01mValueError\u001b[39;00m(\n\u001b[0;32m    715\u001b[0m             \u001b[38;5;124m\"\u001b[39m\u001b[38;5;124mCannot apply DELETE_FIELD in a set request without \u001b[39m\u001b[38;5;124m\"\u001b[39m\n\u001b[0;32m    716\u001b[0m             \u001b[38;5;124m\"\u001b[39m\u001b[38;5;124mspecifying \u001b[39m\u001b[38;5;124m'\u001b[39m\u001b[38;5;124mmerge=True\u001b[39m\u001b[38;5;124m'\u001b[39m\u001b[38;5;124m or \u001b[39m\u001b[38;5;124m'\u001b[39m\u001b[38;5;124mmerge=[field_paths]\u001b[39m\u001b[38;5;124m'\u001b[39m\u001b[38;5;124m.\u001b[39m\u001b[38;5;124m\"\u001b[39m\n\u001b[0;32m    717\u001b[0m         )\n",
      "File \u001b[1;32mc:\\Users\\Weverson Barbieri\\AppData\\Local\\Programs\\Python\\Python312\\Lib\\site-packages\\google\\cloud\\firestore_v1\\_helpers.py:513\u001b[0m, in \u001b[0;36mDocumentExtractor.__init__\u001b[1;34m(self, document_data)\u001b[0m\n\u001b[0;32m    510\u001b[0m prefix_path \u001b[38;5;241m=\u001b[39m FieldPath()\n\u001b[0;32m    511\u001b[0m iterator \u001b[38;5;241m=\u001b[39m \u001b[38;5;28mself\u001b[39m\u001b[38;5;241m.\u001b[39m_get_document_iterator(prefix_path)\n\u001b[1;32m--> 513\u001b[0m \u001b[43m\u001b[49m\u001b[38;5;28;43;01mfor\u001b[39;49;00m\u001b[43m \u001b[49m\u001b[43mfield_path\u001b[49m\u001b[43m,\u001b[49m\u001b[43m \u001b[49m\u001b[43mvalue\u001b[49m\u001b[43m \u001b[49m\u001b[38;5;129;43;01min\u001b[39;49;00m\u001b[43m \u001b[49m\u001b[43miterator\u001b[49m\u001b[43m:\u001b[49m\n\u001b[0;32m    514\u001b[0m \u001b[43m    \u001b[49m\u001b[38;5;28;43;01mif\u001b[39;49;00m\u001b[43m \u001b[49m\u001b[43mfield_path\u001b[49m\u001b[43m \u001b[49m\u001b[38;5;241;43m==\u001b[39;49m\u001b[43m \u001b[49m\u001b[43mprefix_path\u001b[49m\u001b[43m \u001b[49m\u001b[38;5;129;43;01mand\u001b[39;49;00m\u001b[43m \u001b[49m\u001b[43mvalue\u001b[49m\u001b[43m \u001b[49m\u001b[38;5;129;43;01mis\u001b[39;49;00m\u001b[43m \u001b[49m\u001b[43m_EmptyDict\u001b[49m\u001b[43m:\u001b[49m\n\u001b[0;32m    515\u001b[0m \u001b[43m        \u001b[49m\u001b[38;5;28;43mself\u001b[39;49m\u001b[38;5;241;43m.\u001b[39;49m\u001b[43mempty_document\u001b[49m\u001b[43m \u001b[49m\u001b[38;5;241;43m=\u001b[39;49m\u001b[43m \u001b[49m\u001b[38;5;28;43;01mTrue\u001b[39;49;00m\n",
      "File \u001b[1;32mc:\\Users\\Weverson Barbieri\\AppData\\Local\\Programs\\Python\\Python312\\Lib\\site-packages\\google\\cloud\\firestore_v1\\_helpers.py:455\u001b[0m, in \u001b[0;36mextract_fields\u001b[1;34m(document_data, prefix_path, expand_dots)\u001b[0m\n\u001b[0;32m    453\u001b[0m     sub_key \u001b[38;5;241m=\u001b[39m FieldPath\u001b[38;5;241m.\u001b[39mfrom_string(key)\n\u001b[0;32m    454\u001b[0m \u001b[38;5;28;01melse\u001b[39;00m:\n\u001b[1;32m--> 455\u001b[0m     sub_key \u001b[38;5;241m=\u001b[39m \u001b[43mFieldPath\u001b[49m\u001b[43m(\u001b[49m\u001b[43mkey\u001b[49m\u001b[43m)\u001b[49m\n\u001b[0;32m    457\u001b[0m field_path \u001b[38;5;241m=\u001b[39m FieldPath(\u001b[38;5;241m*\u001b[39m(prefix_path\u001b[38;5;241m.\u001b[39mparts \u001b[38;5;241m+\u001b[39m sub_key\u001b[38;5;241m.\u001b[39mparts))\n\u001b[0;32m    459\u001b[0m \u001b[38;5;28;01mif\u001b[39;00m \u001b[38;5;28misinstance\u001b[39m(value, \u001b[38;5;28mdict\u001b[39m):\n",
      "File \u001b[1;32mc:\\Users\\Weverson Barbieri\\AppData\\Local\\Programs\\Python\\Python312\\Lib\\site-packages\\google\\cloud\\firestore_v1\\field_path.py:270\u001b[0m, in \u001b[0;36mFieldPath.__init__\u001b[1;34m(self, *parts)\u001b[0m\n\u001b[0;32m    268\u001b[0m     \u001b[38;5;28;01mif\u001b[39;00m \u001b[38;5;129;01mnot\u001b[39;00m \u001b[38;5;28misinstance\u001b[39m(part, \u001b[38;5;28mstr\u001b[39m) \u001b[38;5;129;01mor\u001b[39;00m \u001b[38;5;129;01mnot\u001b[39;00m part:\n\u001b[0;32m    269\u001b[0m         error \u001b[38;5;241m=\u001b[39m \u001b[38;5;124m\"\u001b[39m\u001b[38;5;124mOne or more components is not a string or is empty.\u001b[39m\u001b[38;5;124m\"\u001b[39m\n\u001b[1;32m--> 270\u001b[0m         \u001b[38;5;28;01mraise\u001b[39;00m \u001b[38;5;167;01mValueError\u001b[39;00m(error)\n\u001b[0;32m    271\u001b[0m \u001b[38;5;28mself\u001b[39m\u001b[38;5;241m.\u001b[39mparts \u001b[38;5;241m=\u001b[39m \u001b[38;5;28mtuple\u001b[39m(parts)\n",
      "\u001b[1;31mValueError\u001b[0m: One or more components is not a string or is empty."
     ]
    }
   ],
   "source": [
    "make_ref.set(data)"
   ]
  },
  {
   "cell_type": "code",
   "execution_count": 31,
   "metadata": {},
   "outputs": [
    {
     "data": {
      "text/plain": [
       "<google.cloud.firestore_v1.base_document.DocumentSnapshot at 0x2485f9ea210>"
      ]
     },
     "execution_count": 31,
     "metadata": {},
     "output_type": "execute_result"
    }
   ],
   "source": [
    "doc_ref.get()"
   ]
  },
  {
   "cell_type": "code",
   "execution_count": 15,
   "metadata": {},
   "outputs": [],
   "source": [
    "get_info = doc_ref.get().to_dict()"
   ]
  },
  {
   "cell_type": "code",
   "execution_count": 16,
   "metadata": {},
   "outputs": [
    {
     "data": {
      "text/plain": [
       "{'P0513': {'Date': DatetimeWithNanoseconds(2025, 2, 13, 14, 11, 54, 895659, tzinfo=datetime.timezone.utc),\n",
       "  'Info': 'CLONING 5',\n",
       "  'Technician': 'Weverson'},\n",
       " 'P0633': True}"
      ]
     },
     "execution_count": 16,
     "metadata": {},
     "output_type": "execute_result"
    }
   ],
   "source": [
    "get_info"
   ]
  },
  {
   "cell_type": "code",
   "execution_count": 17,
   "metadata": {},
   "outputs": [
    {
     "name": "stdout",
     "output_type": "stream",
     "text": [
      "P0513: {'Date': DatetimeWithNanoseconds(2025, 2, 13, 14, 11, 54, 895659, tzinfo=datetime.timezone.utc), 'Info': 'CLONING 5', 'Technician': 'Weverson'}\n",
      "P0633: True\n"
     ]
    }
   ],
   "source": [
    "for topic, values in get_info.items():\n",
    "    print(f\"{topic}: {values}\") "
   ]
  },
  {
   "cell_type": "code",
   "execution_count": 1,
   "metadata": {},
   "outputs": [],
   "source": [
    "import toml"
   ]
  },
  {
   "cell_type": "code",
   "execution_count": 10,
   "metadata": {},
   "outputs": [
    {
     "name": "stderr",
     "output_type": "stream",
     "text": [
      "<>:1: SyntaxWarning: invalid escape sequence '\\L'\n",
      "<>:1: SyntaxWarning: invalid escape sequence '\\L'\n",
      "C:\\Users\\Weverson Barbieri\\AppData\\Local\\Temp\\ipykernel_6516\\911480270.py:1: SyntaxWarning: invalid escape sequence '\\L'\n",
      "  output_file = \"C:\\Language_Projects\\Language_Projects\\Python\\ecu_info\\.streamlit\\secrets.toml\"\n"
     ]
    }
   ],
   "source": [
    "output_file = \"C:\\Language_Projects\\Language_Projects\\Python\\ecu_info\\.streamlit\\secrets.toml\""
   ]
  },
  {
   "cell_type": "code",
   "execution_count": 11,
   "metadata": {},
   "outputs": [
    {
     "name": "stderr",
     "output_type": "stream",
     "text": [
      "<>:1: SyntaxWarning: invalid escape sequence '\\L'\n",
      "<>:1: SyntaxWarning: invalid escape sequence '\\L'\n",
      "C:\\Users\\Weverson Barbieri\\AppData\\Local\\Temp\\ipykernel_6516\\1087625240.py:1: SyntaxWarning: invalid escape sequence '\\L'\n",
      "  with open(\"C:\\Language_Projects\\Language_Projects\\Python\\ecu_info\\src\\ecu-info-firebase-adminsdk-fbsvc-e31bcad2a8.json\") as json_file:\n"
     ]
    }
   ],
   "source": [
    "with open(\"C:\\Language_Projects\\Language_Projects\\Python\\ecu_info\\src\\ecu-info-firebase-adminsdk-fbsvc-e31bcad2a8.json\") as json_file:\n",
    "    json_text = json_file.read()"
   ]
  },
  {
   "cell_type": "code",
   "execution_count": 12,
   "metadata": {},
   "outputs": [],
   "source": [
    "config = {\"textkey\": json_text}\n",
    "toml_config = toml.dumps(config)\n",
    "\n",
    "with open(output_file, \"w\") as target:\n",
    "    target.write(toml_config)"
   ]
  }
 ],
 "metadata": {
  "kernelspec": {
   "display_name": "Python 3",
   "language": "python",
   "name": "python3"
  },
  "language_info": {
   "codemirror_mode": {
    "name": "ipython",
    "version": 3
   },
   "file_extension": ".py",
   "mimetype": "text/x-python",
   "name": "python",
   "nbconvert_exporter": "python",
   "pygments_lexer": "ipython3",
   "version": "3.12.2"
  }
 },
 "nbformat": 4,
 "nbformat_minor": 2
}
